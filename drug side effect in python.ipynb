{
 "cells": [
  {
   "cell_type": "code",
   "execution_count": 1,
   "metadata": {},
   "outputs": [],
   "source": [
    "import pandas as pd\n",
    "import numpy as np\n",
    "import seaborn as sns\n",
    "import matplotlib.pyplot as plt"
   ]
  },
  {
   "cell_type": "code",
   "execution_count": 2,
   "metadata": {},
   "outputs": [],
   "source": [
    "df=pd.read_excel(r\"C:\\Users\\babuk\\Downloads\\unified mentor project 2\\drugs_side_effects_drugs_com.xlsx\")"
   ]
  },
  {
   "cell_type": "code",
   "execution_count": 5,
   "metadata": {},
   "outputs": [
    {
     "data": {
      "text/html": [
       "<div>\n",
       "<style scoped>\n",
       "    .dataframe tbody tr th:only-of-type {\n",
       "        vertical-align: middle;\n",
       "    }\n",
       "\n",
       "    .dataframe tbody tr th {\n",
       "        vertical-align: top;\n",
       "    }\n",
       "\n",
       "    .dataframe thead th {\n",
       "        text-align: right;\n",
       "    }\n",
       "</style>\n",
       "<table border=\"1\" class=\"dataframe\">\n",
       "  <thead>\n",
       "    <tr style=\"text-align: right;\">\n",
       "      <th></th>\n",
       "      <th>drug_name</th>\n",
       "      <th>medical_condition</th>\n",
       "      <th>side_effects</th>\n",
       "      <th>generic_name</th>\n",
       "      <th>drug_classes</th>\n",
       "      <th>brand_names</th>\n",
       "      <th>activity</th>\n",
       "      <th>rx_otc</th>\n",
       "      <th>pregnancy_category</th>\n",
       "      <th>csa</th>\n",
       "      <th>alcohol</th>\n",
       "      <th>related_drugs</th>\n",
       "      <th>medical_condition_description</th>\n",
       "      <th>rating</th>\n",
       "      <th>no_of_reviews</th>\n",
       "      <th>drug_link</th>\n",
       "      <th>medical_condition_url</th>\n",
       "    </tr>\n",
       "  </thead>\n",
       "  <tbody>\n",
       "    <tr>\n",
       "      <th>0</th>\n",
       "      <td>doxycycline</td>\n",
       "      <td>Acne</td>\n",
       "      <td>(hives, difficult breathing, swelling in your ...</td>\n",
       "      <td>doxycycline</td>\n",
       "      <td>Miscellaneous antimalarials, Tetracyclines</td>\n",
       "      <td>Acticlate, Adoxa CK, Adoxa Pak, Adoxa TT, Alod...</td>\n",
       "      <td>0.87</td>\n",
       "      <td>Rx</td>\n",
       "      <td>D</td>\n",
       "      <td>N</td>\n",
       "      <td>X</td>\n",
       "      <td>amoxicillin: https://www.drugs.com/amoxicillin...</td>\n",
       "      <td>Acne Other names: Acne Vulgaris; Blackheads; B...</td>\n",
       "      <td>6.8</td>\n",
       "      <td>760.0</td>\n",
       "      <td>https://www.drugs.com/doxycycline.html</td>\n",
       "      <td>https://www.drugs.com/condition/acne.html</td>\n",
       "    </tr>\n",
       "    <tr>\n",
       "      <th>1</th>\n",
       "      <td>spironolactone</td>\n",
       "      <td>Acne</td>\n",
       "      <td>hives ; difficulty breathing; swelling of your...</td>\n",
       "      <td>spironolactone</td>\n",
       "      <td>Aldosterone receptor antagonists, Potassium-sp...</td>\n",
       "      <td>Aldactone, CaroSpir</td>\n",
       "      <td>0.82</td>\n",
       "      <td>Rx</td>\n",
       "      <td>C</td>\n",
       "      <td>N</td>\n",
       "      <td>X</td>\n",
       "      <td>amlodipine: https://www.drugs.com/amlodipine.h...</td>\n",
       "      <td>Acne Other names: Acne Vulgaris; Blackheads; B...</td>\n",
       "      <td>7.2</td>\n",
       "      <td>449.0</td>\n",
       "      <td>https://www.drugs.com/spironolactone.html</td>\n",
       "      <td>https://www.drugs.com/condition/acne.html</td>\n",
       "    </tr>\n",
       "    <tr>\n",
       "      <th>2</th>\n",
       "      <td>minocycline</td>\n",
       "      <td>Acne</td>\n",
       "      <td>skin rash, fever, swollen glands, flu-like sym...</td>\n",
       "      <td>minocycline</td>\n",
       "      <td>Tetracyclines</td>\n",
       "      <td>Dynacin, Minocin, Minolira, Solodyn, Ximino, V...</td>\n",
       "      <td>0.48</td>\n",
       "      <td>Rx</td>\n",
       "      <td>D</td>\n",
       "      <td>N</td>\n",
       "      <td>NaN</td>\n",
       "      <td>amoxicillin: https://www.drugs.com/amoxicillin...</td>\n",
       "      <td>Acne Other names: Acne Vulgaris; Blackheads; B...</td>\n",
       "      <td>5.7</td>\n",
       "      <td>482.0</td>\n",
       "      <td>https://www.drugs.com/minocycline.html</td>\n",
       "      <td>https://www.drugs.com/condition/acne.html</td>\n",
       "    </tr>\n",
       "    <tr>\n",
       "      <th>3</th>\n",
       "      <td>Accutane</td>\n",
       "      <td>Acne</td>\n",
       "      <td>problems with your vision or hearing; muscle o...</td>\n",
       "      <td>isotretinoin (oral)</td>\n",
       "      <td>Miscellaneous antineoplastics, Miscellaneous u...</td>\n",
       "      <td>NaN</td>\n",
       "      <td>0.41</td>\n",
       "      <td>Rx</td>\n",
       "      <td>X</td>\n",
       "      <td>N</td>\n",
       "      <td>X</td>\n",
       "      <td>doxycycline: https://www.drugs.com/doxycycline...</td>\n",
       "      <td>Acne Other names: Acne Vulgaris; Blackheads; B...</td>\n",
       "      <td>7.9</td>\n",
       "      <td>623.0</td>\n",
       "      <td>https://www.drugs.com/accutane.html</td>\n",
       "      <td>https://www.drugs.com/condition/acne.html</td>\n",
       "    </tr>\n",
       "    <tr>\n",
       "      <th>4</th>\n",
       "      <td>clindamycin</td>\n",
       "      <td>Acne</td>\n",
       "      <td>hives ; difficult breathing; swelling of your ...</td>\n",
       "      <td>clindamycin topical</td>\n",
       "      <td>Topical acne agents, Vaginal anti-infectives</td>\n",
       "      <td>Cleocin T, Clindacin ETZ, Clindacin P, Clindag...</td>\n",
       "      <td>0.39</td>\n",
       "      <td>Rx</td>\n",
       "      <td>B</td>\n",
       "      <td>N</td>\n",
       "      <td>NaN</td>\n",
       "      <td>doxycycline: https://www.drugs.com/doxycycline...</td>\n",
       "      <td>Acne Other names: Acne Vulgaris; Blackheads; B...</td>\n",
       "      <td>7.4</td>\n",
       "      <td>146.0</td>\n",
       "      <td>https://www.drugs.com/mtm/clindamycin-topical....</td>\n",
       "      <td>https://www.drugs.com/condition/acne.html</td>\n",
       "    </tr>\n",
       "  </tbody>\n",
       "</table>\n",
       "</div>"
      ],
      "text/plain": [
       "        drug_name medical_condition  \\\n",
       "0     doxycycline              Acne   \n",
       "1  spironolactone              Acne   \n",
       "2     minocycline              Acne   \n",
       "3        Accutane              Acne   \n",
       "4     clindamycin              Acne   \n",
       "\n",
       "                                        side_effects         generic_name  \\\n",
       "0  (hives, difficult breathing, swelling in your ...          doxycycline   \n",
       "1  hives ; difficulty breathing; swelling of your...       spironolactone   \n",
       "2  skin rash, fever, swollen glands, flu-like sym...          minocycline   \n",
       "3  problems with your vision or hearing; muscle o...  isotretinoin (oral)   \n",
       "4  hives ; difficult breathing; swelling of your ...  clindamycin topical   \n",
       "\n",
       "                                        drug_classes  \\\n",
       "0         Miscellaneous antimalarials, Tetracyclines   \n",
       "1  Aldosterone receptor antagonists, Potassium-sp...   \n",
       "2                                      Tetracyclines   \n",
       "3  Miscellaneous antineoplastics, Miscellaneous u...   \n",
       "4       Topical acne agents, Vaginal anti-infectives   \n",
       "\n",
       "                                         brand_names  activity rx_otc  \\\n",
       "0  Acticlate, Adoxa CK, Adoxa Pak, Adoxa TT, Alod...      0.87     Rx   \n",
       "1                                Aldactone, CaroSpir      0.82     Rx   \n",
       "2  Dynacin, Minocin, Minolira, Solodyn, Ximino, V...      0.48     Rx   \n",
       "3                                                NaN      0.41     Rx   \n",
       "4  Cleocin T, Clindacin ETZ, Clindacin P, Clindag...      0.39     Rx   \n",
       "\n",
       "  pregnancy_category csa alcohol  \\\n",
       "0                  D   N       X   \n",
       "1                  C   N       X   \n",
       "2                  D   N     NaN   \n",
       "3                  X   N       X   \n",
       "4                  B   N     NaN   \n",
       "\n",
       "                                       related_drugs  \\\n",
       "0  amoxicillin: https://www.drugs.com/amoxicillin...   \n",
       "1  amlodipine: https://www.drugs.com/amlodipine.h...   \n",
       "2  amoxicillin: https://www.drugs.com/amoxicillin...   \n",
       "3  doxycycline: https://www.drugs.com/doxycycline...   \n",
       "4  doxycycline: https://www.drugs.com/doxycycline...   \n",
       "\n",
       "                       medical_condition_description  rating  no_of_reviews  \\\n",
       "0  Acne Other names: Acne Vulgaris; Blackheads; B...     6.8          760.0   \n",
       "1  Acne Other names: Acne Vulgaris; Blackheads; B...     7.2          449.0   \n",
       "2  Acne Other names: Acne Vulgaris; Blackheads; B...     5.7          482.0   \n",
       "3  Acne Other names: Acne Vulgaris; Blackheads; B...     7.9          623.0   \n",
       "4  Acne Other names: Acne Vulgaris; Blackheads; B...     7.4          146.0   \n",
       "\n",
       "                                           drug_link  \\\n",
       "0             https://www.drugs.com/doxycycline.html   \n",
       "1          https://www.drugs.com/spironolactone.html   \n",
       "2             https://www.drugs.com/minocycline.html   \n",
       "3                https://www.drugs.com/accutane.html   \n",
       "4  https://www.drugs.com/mtm/clindamycin-topical....   \n",
       "\n",
       "                       medical_condition_url  \n",
       "0  https://www.drugs.com/condition/acne.html  \n",
       "1  https://www.drugs.com/condition/acne.html  \n",
       "2  https://www.drugs.com/condition/acne.html  \n",
       "3  https://www.drugs.com/condition/acne.html  \n",
       "4  https://www.drugs.com/condition/acne.html  "
      ]
     },
     "execution_count": 5,
     "metadata": {},
     "output_type": "execute_result"
    }
   ],
   "source": [
    "df.head(5)"
   ]
  },
  {
   "cell_type": "code",
   "execution_count": 6,
   "metadata": {},
   "outputs": [
    {
     "data": {
      "text/plain": [
       "drug_name                           0\n",
       "medical_condition                   0\n",
       "side_effects                      124\n",
       "generic_name                       43\n",
       "drug_classes                       82\n",
       "brand_names                      1213\n",
       "activity                            0\n",
       "rx_otc                              1\n",
       "pregnancy_category                229\n",
       "csa                                 0\n",
       "alcohol                          1554\n",
       "related_drugs                    1469\n",
       "medical_condition_description       0\n",
       "rating                           1345\n",
       "no_of_reviews                    1345\n",
       "drug_link                           0\n",
       "medical_condition_url               0\n",
       "dtype: int64"
      ]
     },
     "execution_count": 6,
     "metadata": {},
     "output_type": "execute_result"
    }
   ],
   "source": [
    "df.isnull().sum()"
   ]
  },
  {
   "cell_type": "code",
   "execution_count": 7,
   "metadata": {},
   "outputs": [],
   "source": [
    "df_cleaned=df.dropna()"
   ]
  },
  {
   "cell_type": "code",
   "execution_count": 8,
   "metadata": {},
   "outputs": [],
   "source": [
    "df_filled=df.fillna('unknown')"
   ]
  },
  {
   "cell_type": "code",
   "execution_count": 9,
   "metadata": {},
   "outputs": [
    {
     "data": {
      "text/html": [
       "<div>\n",
       "<style scoped>\n",
       "    .dataframe tbody tr th:only-of-type {\n",
       "        vertical-align: middle;\n",
       "    }\n",
       "\n",
       "    .dataframe tbody tr th {\n",
       "        vertical-align: top;\n",
       "    }\n",
       "\n",
       "    .dataframe thead th {\n",
       "        text-align: right;\n",
       "    }\n",
       "</style>\n",
       "<table border=\"1\" class=\"dataframe\">\n",
       "  <thead>\n",
       "    <tr style=\"text-align: right;\">\n",
       "      <th></th>\n",
       "      <th>activity</th>\n",
       "      <th>rating</th>\n",
       "      <th>no_of_reviews</th>\n",
       "    </tr>\n",
       "  </thead>\n",
       "  <tbody>\n",
       "    <tr>\n",
       "      <th>count</th>\n",
       "      <td>2931.000000</td>\n",
       "      <td>1586.000000</td>\n",
       "      <td>1586.000000</td>\n",
       "    </tr>\n",
       "    <tr>\n",
       "      <th>mean</th>\n",
       "      <td>0.084504</td>\n",
       "      <td>6.812926</td>\n",
       "      <td>75.064943</td>\n",
       "    </tr>\n",
       "    <tr>\n",
       "      <th>std</th>\n",
       "      <td>0.169333</td>\n",
       "      <td>2.313044</td>\n",
       "      <td>184.900847</td>\n",
       "    </tr>\n",
       "    <tr>\n",
       "      <th>min</th>\n",
       "      <td>0.000000</td>\n",
       "      <td>0.000000</td>\n",
       "      <td>1.000000</td>\n",
       "    </tr>\n",
       "    <tr>\n",
       "      <th>25%</th>\n",
       "      <td>0.000000</td>\n",
       "      <td>5.600000</td>\n",
       "      <td>2.000000</td>\n",
       "    </tr>\n",
       "    <tr>\n",
       "      <th>50%</th>\n",
       "      <td>0.020000</td>\n",
       "      <td>7.000000</td>\n",
       "      <td>12.000000</td>\n",
       "    </tr>\n",
       "    <tr>\n",
       "      <th>75%</th>\n",
       "      <td>0.070000</td>\n",
       "      <td>8.500000</td>\n",
       "      <td>58.000000</td>\n",
       "    </tr>\n",
       "    <tr>\n",
       "      <th>max</th>\n",
       "      <td>1.000000</td>\n",
       "      <td>10.000000</td>\n",
       "      <td>2934.000000</td>\n",
       "    </tr>\n",
       "  </tbody>\n",
       "</table>\n",
       "</div>"
      ],
      "text/plain": [
       "          activity       rating  no_of_reviews\n",
       "count  2931.000000  1586.000000    1586.000000\n",
       "mean      0.084504     6.812926      75.064943\n",
       "std       0.169333     2.313044     184.900847\n",
       "min       0.000000     0.000000       1.000000\n",
       "25%       0.000000     5.600000       2.000000\n",
       "50%       0.020000     7.000000      12.000000\n",
       "75%       0.070000     8.500000      58.000000\n",
       "max       1.000000    10.000000    2934.000000"
      ]
     },
     "execution_count": 9,
     "metadata": {},
     "output_type": "execute_result"
    }
   ],
   "source": [
    "df.describe()"
   ]
  },
  {
   "cell_type": "markdown",
   "metadata": {},
   "source": [
    "## rating"
   ]
  },
  {
   "cell_type": "code",
   "execution_count": null,
   "metadata": {},
   "outputs": [
    {
     "data": {
      "image/png": "[encoded data removed]",
      "text/plain": [
       "<Figure size 1000x600 with 1 Axes>"
      ]
     },
     "metadata": {},
     "output_type": "display_data"
    }
   ],
   "source": [
    "\n",
    "plt.figure(figsize=(10, 6))\n",
    "sns.histplot(df['rating'], bins=10, kde=True)\n",
    "plt.title('Distribution of Drug Ratings')\n",
    "plt.xlabel('Rating')\n",
    "plt.ylabel('Frequency')\n",
    "plt.show()\n"
   ]
  },
  {
   "cell_type": "markdown",
   "metadata": {},
   "source": [
    "## top 10 of drugs"
   ]
  },
  {
   "cell_type": "code",
   "execution_count": 15,
   "metadata": {},
   "outputs": [],
   "source": [
    "top_drugs=df.groupby('medical_condition')['drug_name'].value_counts().nlargest(10)"
   ]
  },
  {
   "cell_type": "code",
   "execution_count": 16,
   "metadata": {},
   "outputs": [
    {
     "name": "stdout",
     "output_type": "stream",
     "text": [
      "medical_condition  drug_name     \n",
      "Acne               minocycline       2\n",
      "Eczema             fluocinolone      2\n",
      "Herpes             acyclovir         2\n",
      "ADHD               Adderall          1\n",
      "                   Adderall XR       1\n",
      "                   Adhansia XR       1\n",
      "                   Adzenys ER        1\n",
      "                   Adzenys XR-ODT    1\n",
      "                   Aptensio XR       1\n",
      "                   Azstarys          1\n",
      "Name: count, dtype: int64\n"
     ]
    }
   ],
   "source": [
    "print(top_drugs)"
   ]
  },
  {
   "cell_type": "code",
   "execution_count": 18,
   "metadata": {},
   "outputs": [],
   "source": [
    "side_effects=df['side_effects'].value_counts().head(10)"
   ]
  },
  {
   "cell_type": "code",
   "execution_count": 19,
   "metadata": {},
   "outputs": [
    {
     "name": "stdout",
     "output_type": "stream",
     "text": [
      "side_effects\n",
      "hives ; difficult breathing; swelling of your face, lips, tongue, or throat. This medicine may cause serious side effects. Stop using this medicine and call your doctor at once if you have: redness or swelling of the treated area; increased pain; or severe burning or skin irritation such as a rash, itching, pain, or blistering. Less serious side effects may be more likely, and you may have none at all.                                                                                                                                                                                           10\n",
      "hives ; difficult breathing; swelling of your face, lips, tongue, or throat. This medicine may cause serious side effects. Stop using this medicine and call your doctor at once if you have: bone pain, muscle weakness; confusion, changes in your mental state, seizure (convulsions); or pale skin, feeling light-headed or short of breath, rapid heart rate. Less serious side effects may be more likely, and you may have none at all.                                                                                                                                                                   8\n",
      "redness, warmth, swelling, itching, stinging, burning, or irritation of treated skin.                                                                                                                                                                                                                                                                                                                                                                                                                                                                                                                            7\n",
      "hives ; difficult breathing; swelling of your face, lips, tongue, or throat. Less serious side effects may include: stinging; rash; or skin irritation.                                                                                                                                                                                                                                                                                                                                                                                                                                                          5\n",
      "hives ; difficulty breathing; swelling of your face, lips, tongue, or throat. This medicine may cause serious side effects. Stop using this medicine and call your doctor at once if you have: nervousness , dizziness , or sleeplessness ; chest pain, fast or uneven heart rate; little or no urinating; dangerously high blood pressure (severe headache , buzzing in your ears, anxiety , shortness of breath); if your symptoms do not improve after 7 days of treatment, or if you have a fever; or if new symptoms occur. Less serious side effects may be more likely, and you may have none at all.     5\n",
      "hives ; difficult breathing; swelling of your face, lips, tongue, or throat. Common side effects may include temporary hair loss (especially in children).                                                                                                                                                                                                                                                                                                                                                                                                                                                       5\n",
      "hives ; difficulty breathing; swelling of your face, lips, tongue, or throat. Less serious side effects may occur, and you may have none at all.                                                                                                                                                                                                                                                                                                                                                                                                                                                                 3\n",
      "hives ; difficult breathing; swelling of your face, lips, tongue, or throat. Less serious side effects may be more likely, and you may have none at all.                                                                                                                                                                                                                                                                                                                                                                                                                                                         3\n",
      "hives ; difficult breathing; swelling of your face, lips, tongue, or throat.                                                                                                                                                                                                                                                                                                                                                                                                                                                                                                                                     3\n",
      "hives ; difficulty breathing; swelling of your face, lips, tongue, or throat. Wash the skin and get medical attention right away if you have severe burning, pain, swelling, or blistering of the skin where you applied this medicine. This medicine may cause serious side effects. Stop using this medicine and call your doctor at once if you have: pale skin, blue-colored lips; headache , confusion; or rapid heartbeats. Common side effects may include a mild burning sensation that can last for several hours or days, especially after your first use of this medicine.                            3\n",
      "Name: count, dtype: int64\n"
     ]
    }
   ],
   "source": [
    "print(side_effects)"
   ]
  },
  {
   "cell_type": "code",
   "execution_count": 26,
   "metadata": {},
   "outputs": [
    {
     "data": {
      "text/plain": [
       "(2931, 17)"
      ]
     },
     "execution_count": 26,
     "metadata": {},
     "output_type": "execute_result"
    }
   ],
   "source": [
    "df.shape"
   ]
  },
  {
   "cell_type": "markdown",
   "metadata": {},
   "source": [
    "## replace and convert the str into float"
   ]
  },
  {
   "cell_type": "code",
   "execution_count": 27,
   "metadata": {},
   "outputs": [],
   "source": [
    "df['activity']=df['activity'].astype(str).str.replace(r'\\s+','',regex=True).str.rstrip('%'). astype('float')/100"
   ]
  },
  {
   "cell_type": "code",
   "execution_count": 28,
   "metadata": {},
   "outputs": [
    {
     "name": "stdout",
     "output_type": "stream",
     "text": [
      "0    0.0087\n",
      "1    0.0082\n",
      "2    0.0048\n",
      "3    0.0041\n",
      "4    0.0039\n",
      "Name: activity, dtype: float64\n"
     ]
    }
   ],
   "source": [
    "print(df['activity'].head())"
   ]
  },
  {
   "cell_type": "markdown",
   "metadata": {},
   "source": [
    "## find the null values and sum"
   ]
  },
  {
   "cell_type": "code",
   "execution_count": 35,
   "metadata": {},
   "outputs": [
    {
     "data": {
      "text/plain": [
       "np.int64(7405)"
      ]
     },
     "execution_count": 35,
     "metadata": {},
     "output_type": "execute_result"
    }
   ],
   "source": [
    "df.isnull().sum().sum()"
   ]
  },
  {
   "cell_type": "code",
   "execution_count": 33,
   "metadata": {},
   "outputs": [
    {
     "name": "stdout",
     "output_type": "stream",
     "text": [
      "There are 7405 missing values in this dataset\n",
      "Number of instances = 2931\n",
      "Number of attributes = 17\n",
      "Number of missing values:\n"
     ]
    }
   ],
   "source": [
    "print(\"There are {} missing values in this dataset\".format(df.isnull().sum().sum()))\n",
    "print('Number of instances = %d' % (df.shape[0]))\n",
    "print('Number of attributes = %d' % (df.shape[1]))\n",
    "print('Number of missing values:')\n"
   ]
  },
  {
   "cell_type": "code",
   "execution_count": 36,
   "metadata": {},
   "outputs": [],
   "source": [
    "df['pregnancy_category']=df['pregnancy_category'].replace(np.nan,'unknown')"
   ]
  },
  {
   "cell_type": "code",
   "execution_count": 38,
   "metadata": {},
   "outputs": [
    {
     "data": {
      "text/plain": [
       "0             D\n",
       "1             C\n",
       "2             D\n",
       "3             X\n",
       "4             B\n",
       "         ...   \n",
       "2926          X\n",
       "2927          C\n",
       "2928          C\n",
       "2929    unknown\n",
       "2930    unknown\n",
       "Name: pregnancy_category, Length: 2931, dtype: object"
      ]
     },
     "execution_count": 38,
     "metadata": {},
     "output_type": "execute_result"
    }
   ],
   "source": [
    "df['pregnancy_category']"
   ]
  },
  {
   "cell_type": "code",
   "execution_count": 3,
   "metadata": {},
   "outputs": [],
   "source": [
    "df['no_of_reviews'] = pd.to_numeric(df['no_of_reviews'],\n",
    "errors='coerce')"
   ]
  },
  {
   "cell_type": "markdown",
   "metadata": {},
   "source": [
    "## no of reviews"
   ]
  },
  {
   "cell_type": "code",
   "execution_count": 4,
   "metadata": {},
   "outputs": [
    {
     "data": {
      "text/plain": [
       "0       760.0\n",
       "1       449.0\n",
       "2       482.0\n",
       "3       623.0\n",
       "4       146.0\n",
       "        ...  \n",
       "2926     17.0\n",
       "2927      NaN\n",
       "2928      NaN\n",
       "2929      NaN\n",
       "2930      NaN\n",
       "Name: no_of_reviews, Length: 2931, dtype: float64"
      ]
     },
     "execution_count": 4,
     "metadata": {},
     "output_type": "execute_result"
    }
   ],
   "source": [
    "df['no_of_reviews']"
   ]
  },
  {
   "cell_type": "markdown",
   "metadata": {},
   "source": [
    "## drug name"
   ]
  },
  {
   "cell_type": "code",
   "execution_count": 6,
   "metadata": {},
   "outputs": [
    {
     "data": {
      "text/plain": [
       "0          doxycycline\n",
       "1       spironolactone\n",
       "2          minocycline\n",
       "3             Accutane\n",
       "4          clindamycin\n",
       "             ...      \n",
       "2926     benzphetamine\n",
       "2927      fenfluramine\n",
       "2928       Fendique ER\n",
       "2929          Imcivree\n",
       "2930     setmelanotide\n",
       "Name: drug_name, Length: 2931, dtype: object"
      ]
     },
     "execution_count": 6,
     "metadata": {},
     "output_type": "execute_result"
    }
   ],
   "source": [
    "df['drug_name']"
   ]
  },
  {
   "cell_type": "markdown",
   "metadata": {},
   "source": [
    "## version copy"
   ]
  },
  {
   "cell_type": "code",
   "execution_count": 7,
   "metadata": {},
   "outputs": [],
   "source": [
    "data_version2=df.copy()"
   ]
  },
  {
   "cell_type": "code",
   "execution_count": 8,
   "metadata": {},
   "outputs": [
    {
     "name": "stdout",
     "output_type": "stream",
     "text": [
      "        drug_name medical_condition  \\\n",
      "0     doxycycline              Acne   \n",
      "1  spironolactone              Acne   \n",
      "2     minocycline              Acne   \n",
      "3        Accutane              Acne   \n",
      "4     clindamycin              Acne   \n",
      "\n",
      "                                        side_effects         generic_name  \\\n",
      "0  (hives, difficult breathing, swelling in your ...          doxycycline   \n",
      "1  hives ; difficulty breathing; swelling of your...       spironolactone   \n",
      "2  skin rash, fever, swollen glands, flu-like sym...          minocycline   \n",
      "3  problems with your vision or hearing; muscle o...  isotretinoin (oral)   \n",
      "4  hives ; difficult breathing; swelling of your ...  clindamycin topical   \n",
      "\n",
      "                                        drug_classes  \\\n",
      "0         Miscellaneous antimalarials, Tetracyclines   \n",
      "1  Aldosterone receptor antagonists, Potassium-sp...   \n",
      "2                                      Tetracyclines   \n",
      "3  Miscellaneous antineoplastics, Miscellaneous u...   \n",
      "4       Topical acne agents, Vaginal anti-infectives   \n",
      "\n",
      "                                         brand_names  activity rx_otc  \\\n",
      "0  Acticlate, Adoxa CK, Adoxa Pak, Adoxa TT, Alod...      0.87     Rx   \n",
      "1                                Aldactone, CaroSpir      0.82     Rx   \n",
      "2  Dynacin, Minocin, Minolira, Solodyn, Ximino, V...      0.48     Rx   \n",
      "3                                                NaN      0.41     Rx   \n",
      "4  Cleocin T, Clindacin ETZ, Clindacin P, Clindag...      0.39     Rx   \n",
      "\n",
      "  pregnancy_category csa alcohol  \\\n",
      "0                  D   N       X   \n",
      "1                  C   N       X   \n",
      "2                  D   N     NaN   \n",
      "3                  X   N       X   \n",
      "4                  B   N     NaN   \n",
      "\n",
      "                                       related_drugs  \\\n",
      "0  amoxicillin: https://www.drugs.com/amoxicillin...   \n",
      "1  amlodipine: https://www.drugs.com/amlodipine.h...   \n",
      "2  amoxicillin: https://www.drugs.com/amoxicillin...   \n",
      "3  doxycycline: https://www.drugs.com/doxycycline...   \n",
      "4  doxycycline: https://www.drugs.com/doxycycline...   \n",
      "\n",
      "                       medical_condition_description  rating  no_of_reviews  \\\n",
      "0  Acne Other names: Acne Vulgaris; Blackheads; B...     6.8          760.0   \n",
      "1  Acne Other names: Acne Vulgaris; Blackheads; B...     7.2          449.0   \n",
      "2  Acne Other names: Acne Vulgaris; Blackheads; B...     5.7          482.0   \n",
      "3  Acne Other names: Acne Vulgaris; Blackheads; B...     7.9          623.0   \n",
      "4  Acne Other names: Acne Vulgaris; Blackheads; B...     7.4          146.0   \n",
      "\n",
      "                                           drug_link  \\\n",
      "0             https://www.drugs.com/doxycycline.html   \n",
      "1          https://www.drugs.com/spironolactone.html   \n",
      "2             https://www.drugs.com/minocycline.html   \n",
      "3                https://www.drugs.com/accutane.html   \n",
      "4  https://www.drugs.com/mtm/clindamycin-topical....   \n",
      "\n",
      "                       medical_condition_url  \n",
      "0  https://www.drugs.com/condition/acne.html  \n",
      "1  https://www.drugs.com/condition/acne.html  \n",
      "2  https://www.drugs.com/condition/acne.html  \n",
      "3  https://www.drugs.com/condition/acne.html  \n",
      "4  https://www.drugs.com/condition/acne.html  \n"
     ]
    }
   ],
   "source": [
    "print(data_version2.head())"
   ]
  },
  {
   "cell_type": "markdown",
   "metadata": {},
   "source": [
    "## no of unique in pregency categories"
   ]
  },
  {
   "cell_type": "code",
   "execution_count": 9,
   "metadata": {},
   "outputs": [
    {
     "data": {
      "text/plain": [
       "array(['D', 'C', 'X', 'B', 'N', nan, 'A'], dtype=object)"
      ]
     },
     "execution_count": 9,
     "metadata": {},
     "output_type": "execute_result"
    }
   ],
   "source": [
    "df['pregnancy_category'].unique()"
   ]
  },
  {
   "cell_type": "markdown",
   "metadata": {},
   "source": [
    "## uniques"
   ]
  },
  {
   "cell_type": "code",
   "execution_count": 10,
   "metadata": {},
   "outputs": [
    {
     "data": {
      "text/plain": [
       "array(['Rx', 'Rx/OTC', 'OTC', nan], dtype=object)"
      ]
     },
     "execution_count": 10,
     "metadata": {},
     "output_type": "execute_result"
    }
   ],
   "source": [
    "df['rx_otc'].unique()"
   ]
  },
  {
   "cell_type": "markdown",
   "metadata": {},
   "source": [
    "## medical condition"
   ]
  },
  {
   "cell_type": "code",
   "execution_count": 11,
   "metadata": {},
   "outputs": [
    {
     "data": {
      "text/plain": [
       "array(['Acne', 'ADHD', 'AIDS/HIV', 'Allergies', \"Alzheimer's\", 'Angina',\n",
       "       'Anxiety', 'Asthma', 'Bipolar Disorder', 'Bronchitis', 'Cancer',\n",
       "       'Cholesterol', 'Colds & Flu', 'Constipation', 'COPD', 'Covid 19',\n",
       "       'Depression', 'Diabetes (Type 1)', 'Diabetes (Type 2)', 'Diarrhea',\n",
       "       'Eczema', 'Erectile Dysfunction', 'Gastrointestinal',\n",
       "       'GERD (Heartburn)', 'Gout', 'Hair Loss', 'Hayfever', 'Herpes',\n",
       "       'Hypertension', 'Hypothyroidism', 'IBD (Bowel)', 'Incontinence',\n",
       "       'Insomnia', 'Menopause', 'Migraine', 'Osteoarthritis',\n",
       "       'Osteoporosis', 'Pain', 'Pneumonia', 'Psoriasis',\n",
       "       'Rheumatoid Arthritis', 'Schizophrenia', 'Seizures', 'Stroke',\n",
       "       'Swine Flu', 'UTI', 'Weight Loss'], dtype=object)"
      ]
     },
     "execution_count": 11,
     "metadata": {},
     "output_type": "execute_result"
    }
   ],
   "source": [
    "df['medical_condition'].unique()"
   ]
  }
 ],
 "metadata": {
  "kernelspec": {
   "display_name": "Python 3",
   "language": "python",
   "name": "python3"
  },
  "language_info": {
   "codemirror_mode": {
    "name": "ipython",
    "version": 3
   },
   "file_extension": ".py",
   "mimetype": "text/x-python",
   "name": "python",
   "nbconvert_exporter": "python",
   "pygments_lexer": "ipython3",
   "version": "3.12.4"
  }
 },
 "nbformat": 4,
 "nbformat_minor": 2
}
